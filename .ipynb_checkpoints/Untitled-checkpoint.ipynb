{
 "cells": [
  {
   "cell_type": "code",
   "execution_count": null,
   "id": "471c5749",
   "metadata": {},
   "outputs": [],
   "source": []
  },
  {
   "cell_type": "code",
   "execution_count": 1,
   "id": "9c24b757",
   "metadata": {},
   "outputs": [],
   "source": [
    "import numpy as np\n",
    "import pandas as pd\n",
    "import seaborn as sns\n",
    "import matplotlib.pyplot as plt"
   ]
  },
  {
   "cell_type": "markdown",
   "id": "00e2e1d7",
   "metadata": {},
   "source": [
    "### Exploring the dataset"
   ]
  },
  {
   "cell_type": "code",
   "execution_count": 2,
   "id": "ade450be",
   "metadata": {
    "scrolled": true
   },
   "outputs": [],
   "source": [
    "data = pd.read_excel(\"Telco_customer_churn.xlsx\")\n",
    "#data.sample(2).T"
   ]
  },
  {
   "cell_type": "code",
   "execution_count": 3,
   "id": "d5305e43",
   "metadata": {},
   "outputs": [
    {
     "data": {
      "text/plain": [
       "Index(['CustomerID', 'Count', 'Country', 'State', 'City', 'Zip Code',\n",
       "       'Lat Long', 'Latitude', 'Longitude', 'Gender', 'Senior Citizen',\n",
       "       'Partner', 'Dependents', 'Tenure Months', 'Phone Service',\n",
       "       'Multiple Lines', 'Internet Service', 'Online Security',\n",
       "       'Online Backup', 'Device Protection', 'Tech Support', 'Streaming TV',\n",
       "       'Streaming Movies', 'Contract', 'Paperless Billing', 'Payment Method',\n",
       "       'Monthly Charges', 'Total Charges', 'Churn Label', 'Churn Value',\n",
       "       'Churn Score', 'CLTV', 'Churn Reason'],\n",
       "      dtype='object')"
      ]
     },
     "execution_count": 3,
     "metadata": {},
     "output_type": "execute_result"
    }
   ],
   "source": [
    "data.columns"
   ]
  },
  {
   "cell_type": "code",
   "execution_count": 4,
   "id": "4c2220f2",
   "metadata": {},
   "outputs": [
    {
     "data": {
      "text/plain": [
       "CustomerID              0\n",
       "Count                   0\n",
       "Country                 0\n",
       "State                   0\n",
       "City                    0\n",
       "Zip Code                0\n",
       "Lat Long                0\n",
       "Latitude                0\n",
       "Longitude               0\n",
       "Gender                  0\n",
       "Senior Citizen          0\n",
       "Partner                 0\n",
       "Dependents              0\n",
       "Tenure Months           0\n",
       "Phone Service           0\n",
       "Multiple Lines          0\n",
       "Internet Service        0\n",
       "Online Security         0\n",
       "Online Backup           0\n",
       "Device Protection       0\n",
       "Tech Support            0\n",
       "Streaming TV            0\n",
       "Streaming Movies        0\n",
       "Contract                0\n",
       "Paperless Billing       0\n",
       "Payment Method          0\n",
       "Monthly Charges         0\n",
       "Total Charges           0\n",
       "Churn Label             0\n",
       "Churn Value             0\n",
       "Churn Score             0\n",
       "CLTV                    0\n",
       "Churn Reason         5174\n",
       "dtype: int64"
      ]
     },
     "execution_count": 4,
     "metadata": {},
     "output_type": "execute_result"
    }
   ],
   "source": [
    "data.isna().sum()"
   ]
  },
  {
   "cell_type": "code",
   "execution_count": 5,
   "id": "3e08f8fb",
   "metadata": {
    "scrolled": false
   },
   "outputs": [
    {
     "name": "stdout",
     "output_type": "stream",
     "text": [
      "<class 'pandas.core.frame.DataFrame'>\n",
      "RangeIndex: 7043 entries, 0 to 7042\n",
      "Data columns (total 33 columns):\n",
      " #   Column             Non-Null Count  Dtype  \n",
      "---  ------             --------------  -----  \n",
      " 0   CustomerID         7043 non-null   object \n",
      " 1   Count              7043 non-null   int64  \n",
      " 2   Country            7043 non-null   object \n",
      " 3   State              7043 non-null   object \n",
      " 4   City               7043 non-null   object \n",
      " 5   Zip Code           7043 non-null   int64  \n",
      " 6   Lat Long           7043 non-null   object \n",
      " 7   Latitude           7043 non-null   float64\n",
      " 8   Longitude          7043 non-null   float64\n",
      " 9   Gender             7043 non-null   object \n",
      " 10  Senior Citizen     7043 non-null   object \n",
      " 11  Partner            7043 non-null   object \n",
      " 12  Dependents         7043 non-null   object \n",
      " 13  Tenure Months      7043 non-null   int64  \n",
      " 14  Phone Service      7043 non-null   object \n",
      " 15  Multiple Lines     7043 non-null   object \n",
      " 16  Internet Service   7043 non-null   object \n",
      " 17  Online Security    7043 non-null   object \n",
      " 18  Online Backup      7043 non-null   object \n",
      " 19  Device Protection  7043 non-null   object \n",
      " 20  Tech Support       7043 non-null   object \n",
      " 21  Streaming TV       7043 non-null   object \n",
      " 22  Streaming Movies   7043 non-null   object \n",
      " 23  Contract           7043 non-null   object \n",
      " 24  Paperless Billing  7043 non-null   object \n",
      " 25  Payment Method     7043 non-null   object \n",
      " 26  Monthly Charges    7043 non-null   float64\n",
      " 27  Total Charges      7043 non-null   object \n",
      " 28  Churn Label        7043 non-null   object \n",
      " 29  Churn Value        7043 non-null   int64  \n",
      " 30  Churn Score        7043 non-null   int64  \n",
      " 31  CLTV               7043 non-null   int64  \n",
      " 32  Churn Reason       1869 non-null   object \n",
      "dtypes: float64(3), int64(6), object(24)\n",
      "memory usage: 1.8+ MB\n"
     ]
    }
   ],
   "source": [
    "#Checking data types and missing values\n",
    "data.info()"
   ]
  },
  {
   "cell_type": "code",
   "execution_count": 6,
   "id": "628e3131",
   "metadata": {},
   "outputs": [
    {
     "name": "stdout",
     "output_type": "stream",
     "text": [
      "Categorical Columns: Index(['Count', 'Zip Code', 'Latitude', 'Longitude', 'Tenure Months',\n",
      "       'Monthly Charges', 'Churn Value', 'Churn Score', 'CLTV'],\n",
      "      dtype='object')\n",
      "\n",
      "-------numerical Values---------\n",
      "Count: [1]\n",
      "Zip Code: [90003 90005 90006 ... 96128 96134 96146]\n",
      "Latitude: [33.964131 34.059281 34.048013 ... 40.346634 41.813521 39.191797]\n",
      "Longitude: [-118.272783 -118.30742  -118.293953 ... -120.386422 -121.492666\n",
      " -120.212401]\n",
      "Tenure Months: [ 2  8 28 49 10  1 47 17  5 34 11 15 18  9  7 12 25 68 55 37  3 27 20  4\n",
      " 58 53 13  6 19 59 16 52 24 32 38 54 43 63 21 69 22 61 60 48 40 23 39 35\n",
      " 56 65 33 30 45 46 62 70 50 44 71 26 14 41 66 64 29 42 67 51 31 57 36 72\n",
      "  0]\n",
      "Monthly Charges: [ 53.85  70.7   99.65 ... 108.35  63.1   78.7 ]\n",
      "Churn Value: [1 0]\n",
      "Churn Score: [ 86  67  84  89  78 100  92  77  97  74  66  65  70  90  82  69  81  96\n",
      "  87  88  75  76  95  99  80  73  94  83  98  71  85  68  91  93  72  79\n",
      "  27  61  43  51  58  39  35  57  53  21  38  40  41  22  25  64  49  62\n",
      "  52  59  29  33  20  30  26  54  56  55  28  37   9  60  24  63  23  47\n",
      "  32   8  46  42  48  36  34   7  50  44  31   5  45]\n",
      "CLTV: [3239 2701 5372 ... 2770 4645 5553]\n"
     ]
    }
   ],
   "source": [
    "numerical_cols = data.select_dtypes(include=['int64', 'float64']).columns\n",
    "print(f\"Categorical Columns: {numerical_cols}\")\n",
    "\n",
    "print(\"\\n-------numerical Values---------\")\n",
    "for col in numerical_cols:\n",
    "    print(f\"{col}: {data[col].unique()}\")"
   ]
  },
  {
   "cell_type": "markdown",
   "id": "b94480b6",
   "metadata": {},
   "source": [
    "I will drop ((Count)) variable, because it is has unique value and it does not contain any pattern or relationship with the target variable."
   ]
  },
  {
   "cell_type": "code",
   "execution_count": 7,
   "id": "01f061c6",
   "metadata": {},
   "outputs": [],
   "source": [
    "data.drop('CLTV',axis=1, inplace=True)"
   ]
  },
  {
   "cell_type": "markdown",
   "id": "4e6d33d6",
   "metadata": {},
   "source": [
    "I will CLTV (drop Customer Lifetime Value) variable because it is already a prediction based on many variables known to affect churn, including it in your machine learning model introduces target leakage."
   ]
  },
  {
   "cell_type": "code",
   "execution_count": 8,
   "id": "13d7bff4",
   "metadata": {},
   "outputs": [],
   "source": [
    "data.drop('Count',axis=1, inplace=True)"
   ]
  },
  {
   "cell_type": "code",
   "execution_count": 9,
   "id": "c698d65d",
   "metadata": {},
   "outputs": [
    {
     "name": "stderr",
     "output_type": "stream",
     "text": [
      "C:\\Users\\musta\\AppData\\Local\\Temp\\ipykernel_16228\\4170021395.py:2: FutureWarning: The default value of numeric_only in DataFrame.corr is deprecated. In a future version, it will default to False. Select only valid columns or specify the value of numeric_only to silence this warning.\n",
      "  correlation_matrix = data.corr()\n"
     ]
    },
    {
     "data": {
      "image/png": "[encoded data removed]",
      "text/plain": [
       "<Figure size 1000x800 with 2 Axes>"
      ]
     },
     "metadata": {},
     "output_type": "display_data"
    }
   ],
   "source": [
    "# Compute the correlation matrix for numerical features\n",
    "correlation_matrix = data.corr()\n",
    "\n",
    "import seaborn as sns\n",
    "import matplotlib.pyplot as plt\n",
    "\n",
    "# Plot a heatmap of the correlation matrix\n",
    "plt.figure(figsize=(10, 8))\n",
    "sns.heatmap(correlation_matrix, annot=True, cmap='coolwarm', fmt='.2f', linewidths=0.5)\n",
    "plt.title('Correlation Matrix')\n",
    "plt.show()"
   ]
  },
  {
   "cell_type": "markdown",
   "id": "5e5bb3fd",
   "metadata": {},
   "source": [
    "#### Key Observations from the Correlation Matrix:\n",
    "- The Tenure Months is correlated negatively with the target about - 0.35, that indicates the cunstumers  with longer tenure are less likely to churn.\n",
    "- Monthly Charge is weak corrected positively with the target about 0.19, that indictes the cunstumers with Higher monthly charges slightly increase the likelihood of churn.\n",
    "- CLTV (Customer Lifetime Value) is  weak corrected negatively with the target about -0.13,that indictes the cunstumers with higher CLTV customers are slightly less likely to churn.\n",
    "- Churn Score is strong corrected positively with the target about 0.66, however, this is a data leakage risk if Churn Score is derived from or influenced by churn data.\n",
    "- Zip Code, Latitude, and Longitude:\n",
    " -- Zip Code & Latitude: 0.90\n",
    " -- Latitude & Longitude: -0.88\n",
    " --These high correlations indicate these geographical features are redundant.\n"
   ]
  },
  {
   "cell_type": "markdown",
   "id": "4315556d",
   "metadata": {},
   "source": [
    "I will drop ((Churn Score)) variable because it is already a prediction based on many variables known to affect churn, including it in your machine learning model introduces target leakage."
   ]
  },
  {
   "cell_type": "code",
   "execution_count": 10,
   "id": "d7e4f2d3",
   "metadata": {},
   "outputs": [],
   "source": [
    "data.drop('Churn Score', axis=1, inplace=True)"
   ]
  },
  {
   "cell_type": "markdown",
   "id": "fddd0e29",
   "metadata": {},
   "source": [
    "I will drop ip Code, Latitude, and Longitud because they are a redundant atures and are not directly predictive of churn (correlation with Churn Value is close to 0)."
   ]
  },
  {
   "cell_type": "code",
   "execution_count": 11,
   "id": "f238743a",
   "metadata": {},
   "outputs": [],
   "source": [
    "data_city = data[['Latitude', 'Longitude']] #I will save this dataset to use it for creation the Feature Engineering for City.\n",
    "data.drop(['Zip Code', 'Latitude', 'Longitude'], axis=1, inplace=True)"
   ]
  },
  {
   "cell_type": "code",
   "execution_count": 12,
   "id": "cbfee51b",
   "metadata": {},
   "outputs": [
    {
     "name": "stdout",
     "output_type": "stream",
     "text": [
      "Columns with a single unique value: ['Country', 'State']\n"
     ]
    }
   ],
   "source": [
    "# Identify columns with only one unique value\n",
    "single_value_cols = [col for col in data.columns if data[col].nunique() == 1]\n",
    "\n",
    "# Print the columns with a single unique value\n",
    "print(f\"Columns with a single unique value: {single_value_cols}\")"
   ]
  },
  {
   "cell_type": "markdown",
   "id": "29de7f14",
   "metadata": {},
   "source": [
    "I have to drop these variables: ((Count, Country, State)) because they have only one unique value across all rows.\n",
    "This columns don't add any useful information to the model because they have no variability. they are essentially constant \n",
    "for all data points and will not help differentiate between target outcomes.\n",
    "\n",
    "I will drop ((CustomerID)), because it is an Unique Identifiers and it does not contain any pattern or relationship with the target variable."
   ]
  },
  {
   "cell_type": "code",
   "execution_count": 13,
   "id": "13e7a05d",
   "metadata": {},
   "outputs": [],
   "source": [
    "# Drop these columns from the dataset\n",
    "data.drop(single_value_cols, axis=1, inplace=True)\n",
    "data.drop('CustomerID', axis=1,inplace=True)"
   ]
  },
  {
   "cell_type": "code",
   "execution_count": 14,
   "id": "3a2dc03b",
   "metadata": {},
   "outputs": [
    {
     "name": "stdout",
     "output_type": "stream",
     "text": [
      "-- Columns with a binary values: ['Gender', 'Senior Citizen', 'Partner', 'Dependents', 'Phone Service', 'Paperless Billing', 'Churn Label']\n",
      "\n",
      "-------Binary Values---------\n",
      "Gender: ['Male' 'Female']\n",
      "Senior Citizen: ['No' 'Yes']\n",
      "Partner: ['No' 'Yes']\n",
      "Dependents: ['No' 'Yes']\n",
      "Phone Service: ['Yes' 'No']\n",
      "Paperless Billing: ['Yes' 'No']\n",
      "Churn Label: ['Yes' 'No']\n"
     ]
    }
   ],
   "source": [
    "# Identify columns with a binary types (type of categorical) and tronsform them to numerical 0 and 1\n",
    "binary_values_cols_catg = [col for col in data.columns if data[col].nunique() == 2 and data[col].dtype == 'object']\n",
    "# Print the columns with a binary values\n",
    "print(f\"-- Columns with a binary values: {binary_values_cols_catg}\")\n",
    "\n",
    "print(\"\\n-------Binary Values---------\")\n",
    "for col in binary_values_cols_catg:\n",
    "    print(f\"{col}: {data[col].unique()}\")"
   ]
  },
  {
   "cell_type": "code",
   "execution_count": 15,
   "id": "0e09d7e5",
   "metadata": {},
   "outputs": [
    {
     "data": {
      "text/plain": [
       "Index(['City', 'Lat Long', 'Gender', 'Senior Citizen', 'Partner', 'Dependents',\n",
       "       'Tenure Months', 'Phone Service', 'Multiple Lines', 'Internet Service',\n",
       "       'Online Security', 'Online Backup', 'Device Protection', 'Tech Support',\n",
       "       'Streaming TV', 'Streaming Movies', 'Contract', 'Paperless Billing',\n",
       "       'Payment Method', 'Monthly Charges', 'Total Charges', 'Churn Label',\n",
       "       'Churn Value', 'Churn Reason'],\n",
       "      dtype='object')"
      ]
     },
     "execution_count": 15,
     "metadata": {},
     "output_type": "execute_result"
    }
   ],
   "source": [
    "data.columns"
   ]
  },
  {
   "cell_type": "code",
   "execution_count": 16,
   "id": "311b62aa",
   "metadata": {},
   "outputs": [],
   "source": [
    "#I will drop Churn Label because it is the same of Churn value and it is our target\n",
    "data.drop('Churn Label', axis=1,inplace=True)\n",
    "# Transform them to 1/0 values\n",
    "for col in ['Senior Citizen', 'Partner', 'Dependents', 'Phone Service', 'Paperless Billing']:\n",
    "    data[col] = data[col].map({'Yes': 1, 'No': 0})\n",
    "\n",
    "# Binary encoding for Gender\n",
    "data['Gender'] = data['Gender'].map({'Male': 1, 'Female': 0})"
   ]
  },
  {
   "cell_type": "code",
   "execution_count": 17,
   "id": "81c7c075",
   "metadata": {},
   "outputs": [
    {
     "name": "stdout",
     "output_type": "stream",
     "text": [
      "Categorical Columns: Index(['City', 'Lat Long', 'Multiple Lines', 'Internet Service',\n",
      "       'Online Security', 'Online Backup', 'Device Protection', 'Tech Support',\n",
      "       'Streaming TV', 'Streaming Movies', 'Contract', 'Payment Method',\n",
      "       'Total Charges', 'Churn Reason'],\n",
      "      dtype='object')\n",
      "\n",
      "-------categorical Values---------\n",
      "City: 1129\n",
      "Lat Long: 1652\n",
      "Multiple Lines: 3\n",
      "Internet Service: 3\n",
      "Online Security: 3\n",
      "Online Backup: 3\n",
      "Device Protection: 3\n",
      "Tech Support: 3\n",
      "Streaming TV: 3\n",
      "Streaming Movies: 3\n",
      "Contract: 3\n",
      "Payment Method: 4\n",
      "Total Charges: 6531\n",
      "Churn Reason: 20\n"
     ]
    }
   ],
   "source": [
    "categorical_cols = data.select_dtypes(include=['object', 'category']).columns\n",
    "print(f\"Categorical Columns: {categorical_cols}\")\n",
    "\n",
    "print(\"\\n-------categorical Values---------\")\n",
    "for col in categorical_cols:\n",
    "    print(f\"{col}: {data[col].nunique()}\")"
   ]
  },
  {
   "cell_type": "code",
   "execution_count": 18,
   "id": "ae916cd9",
   "metadata": {},
   "outputs": [
    {
     "data": {
      "text/plain": [
       "Index(['City', 'Lat Long', 'Gender', 'Senior Citizen', 'Partner', 'Dependents',\n",
       "       'Tenure Months', 'Phone Service', 'Multiple Lines', 'Internet Service',\n",
       "       'Online Security', 'Online Backup', 'Device Protection', 'Tech Support',\n",
       "       'Streaming TV', 'Streaming Movies', 'Contract', 'Paperless Billing',\n",
       "       'Payment Method', 'Monthly Charges', 'Total Charges', 'Churn Value',\n",
       "       'Churn Reason'],\n",
       "      dtype='object')"
      ]
     },
     "execution_count": 18,
     "metadata": {},
     "output_type": "execute_result"
    }
   ],
   "source": [
    "data.columns"
   ]
  },
  {
   "cell_type": "markdown",
   "id": "fc8d5c05",
   "metadata": {},
   "source": [
    "### Visualizing Categorical Variables with Churn Value"
   ]
  },
  {
   "cell_type": "code",
   "execution_count": 19,
   "id": "eab48b83",
   "metadata": {},
   "outputs": [
    {
     "data": {
      "text/plain": [
       "Index(['City', 'Lat Long', 'Multiple Lines', 'Internet Service',\n",
       "       'Online Security', 'Online Backup', 'Device Protection', 'Tech Support',\n",
       "       'Streaming TV', 'Streaming Movies', 'Contract', 'Payment Method',\n",
       "       'Total Charges', 'Churn Reason'],\n",
       "      dtype='object')"
      ]
     },
     "execution_count": 19,
     "metadata": {},
     "output_type": "execute_result"
    }
   ],
   "source": [
    "categorical_cols"
   ]
  },
  {
   "cell_type": "code",
   "execution_count": 20,
   "id": "f8aaedbc",
   "metadata": {
    "scrolled": true
   },
   "outputs": [
    {
     "data": {
      "text/plain": [
       "\" for col in categorical_cols:\\n        plt.figure(figsize=(8, 4))\\n        sns.countplot(x=col, hue='Churn Value', data=data)\\n        plt.title(f'Churn Distribution by {col}')\\n        plt.show()\""
      ]
     },
     "execution_count": 20,
     "metadata": {},
     "output_type": "execute_result"
    }
   ],
   "source": [
    "# Plot each categorical feature against Churn Value\n",
    "''' for col in categorical_cols:\n",
    "        plt.figure(figsize=(8, 4))\n",
    "        sns.countplot(x=col, hue='Churn Value', data=data)\n",
    "        plt.title(f'Churn Distribution by {col}')\n",
    "        plt.show()'''\n"
   ]
  },
  {
   "cell_type": "code",
   "execution_count": 21,
   "id": "807a2d54",
   "metadata": {
    "scrolled": true
   },
   "outputs": [
    {
     "data": {
      "text/plain": [
       "'for col in categorical_cols:\\n    plot_stacked_bar(col)'"
      ]
     },
     "execution_count": 21,
     "metadata": {},
     "output_type": "execute_result"
    }
   ],
   "source": [
    "# Function to plot stacked bar charts\n",
    "def plot_stacked_bar(column):\n",
    "    # Create a contingency table\n",
    "    crosstab = pd.crosstab(data[column], data['Churn Value'], normalize='index')\n",
    "\n",
    "    # Plot the stacked bar chart\n",
    "    crosstab.plot(kind='bar', stacked=True, figsize=(8, 4), colormap='coolwarm')\n",
    "    plt.title(f'Stacked Bar Plot: {column} vs Churn Value')\n",
    "    plt.xlabel(column)\n",
    "    plt.ylabel('Proportion')\n",
    "    plt.legend(title='Churn Value', loc='upper right')\n",
    "    plt.show()\n",
    "\n",
    "# Plot stacked bar charts for all categorical columns\n",
    "'''for col in categorical_cols:\n",
    "    plot_stacked_bar(col)'''"
   ]
  },
  {
   "cell_type": "code",
   "execution_count": 22,
   "id": "9abf26d5",
   "metadata": {},
   "outputs": [
    {
     "name": "stdout",
     "output_type": "stream",
     "text": [
      "City: Chi2 = 1233.57, p = 0.0150\n",
      "  -> Significant relationship with Churn (p < 0.05)\n",
      "\n",
      "Lat Long: Chi2 = 1745.97, p = 0.0512\n",
      "  -> No significant relationship with Churn (p >= 0.05)\n",
      "\n",
      "Multiple Lines: Chi2 = 11.33, p = 0.0035\n",
      "  -> Significant relationship with Churn (p < 0.05)\n",
      "\n",
      "Internet Service: Chi2 = 732.31, p = 0.0000\n",
      "  -> Significant relationship with Churn (p < 0.05)\n",
      "\n",
      "Online Security: Chi2 = 850.00, p = 0.0000\n",
      "  -> Significant relationship with Churn (p < 0.05)\n",
      "\n",
      "Online Backup: Chi2 = 601.81, p = 0.0000\n",
      "  -> Significant relationship with Churn (p < 0.05)\n",
      "\n",
      "Device Protection: Chi2 = 558.42, p = 0.0000\n",
      "  -> Significant relationship with Churn (p < 0.05)\n",
      "\n",
      "Tech Support: Chi2 = 828.20, p = 0.0000\n",
      "  -> Significant relationship with Churn (p < 0.05)\n",
      "\n",
      "Streaming TV: Chi2 = 374.20, p = 0.0000\n",
      "  -> Significant relationship with Churn (p < 0.05)\n",
      "\n",
      "Streaming Movies: Chi2 = 375.66, p = 0.0000\n",
      "  -> Significant relationship with Churn (p < 0.05)\n",
      "\n",
      "Contract: Chi2 = 1184.60, p = 0.0000\n",
      "  -> Significant relationship with Churn (p < 0.05)\n",
      "\n",
      "Payment Method: Chi2 = 648.14, p = 0.0000\n",
      "  -> Significant relationship with Churn (p < 0.05)\n",
      "\n",
      "Total Charges: Chi2 = 6514.05, p = 0.5532\n",
      "  -> No significant relationship with Churn (p >= 0.05)\n",
      "\n",
      "Churn Reason: Chi2 = 0.00, p = 1.0000\n",
      "  -> No significant relationship with Churn (p >= 0.05)\n",
      "\n"
     ]
    }
   ],
   "source": [
    "from scipy.stats import chi2_contingency\n",
    "\n",
    "# Perform Chi-Square test for each categorical feature\n",
    "for col in categorical_cols:\n",
    "    crosstab = pd.crosstab(data[col], data['Churn Value'])\n",
    "    chi2, p, dof, expected = chi2_contingency(crosstab)\n",
    "    \n",
    "    print(f'{col}: Chi2 = {chi2:.2f}, p = {p:.4f}')\n",
    "    if p < 0.05:\n",
    "        print(f\"  -> Significant relationship with Churn (p < 0.05)\\n\")\n",
    "    else:\n",
    "        print(f\"  -> No significant relationship with Churn (p >= 0.05)\\n\")"
   ]
  },
  {
   "cell_type": "markdown",
   "id": "72da5912",
   "metadata": {},
   "source": [
    "- Multiple Lines (keep it): Customers with multiple lines or no phone service churn at similar rates.Single line customers seem to churn less frequently. Significant relationship with Churn (p < 0.05)\n",
    "- Internet Service (keep it): Fiber optic customers churn more than DSL customers. Customers with no internet service have minimal churn. Significant relationship with Churn (p < 0.05)\n",
    "- Online Security & oline Backup  & Device Protection & Tech Support (testing for multicollinearity (correlation between these features) during feature selection because they could be redundant): CMore churn for customers without these services. Again, no internet service customers rarely churn. Significant relationship with Churn (p < 0.05)\n",
    "- Streaming Movies & Streaming TV (testing for multicollinearity (correlation between these features) during feature selection because they could be redundant) : Observation: Both \"Yes\" and \"No\" categories have a similar churn proportion. Customers with no internet service have minimal churn. Significant relationship with Churn (p < 0.05)\n",
    "- Lat Long (drop it): The Lat Long is highly fragmented with too many unique values, making it hard to derive meaningful patterns from these visualizations. No significant relationship with Churn (p >= 0.05)\n",
    "- City (keep it): It has a significant relationship with Churn (p < 0.05)\n",
    "- Total Charges (drop it): The Total Charges values are scattered across a wide range, with no clear pattern in the churn distribution. No significant relationship with Churn (p >= 0.05)\n",
    "- Payment Method (keep it): Customers paying with Electronic Check show higher churn than those using Bank Transfer, Credit Card, or Mailed Check. Significant relationship with Churn (p < 0.05)\n",
    "- Contract (keep it): Month-to-Month contracts have higher churn compared to One-Year and Two-Year contracts. One-Year and Two-Year contracts have very low churn rates. Significant relationship with Churn (p < 0.05)\n",
    "- Churn Reason (drop it): It has a significant relationship with Churn (p < 0.05)"
   ]
  },
  {
   "cell_type": "code",
   "execution_count": 23,
   "id": "edab3691",
   "metadata": {},
   "outputs": [],
   "source": [
    "##Churn Reason, Total Charges, Lat Long\n",
    "#data.drop(['Churn Reason', 'Total Charges', 'Lat Long'], axis=1,inplace=True)\n",
    "data.drop(['Churn Reason', 'Lat Long'], axis=1,inplace=True)"
   ]
  },
  {
   "cell_type": "code",
   "execution_count": 24,
   "id": "875ca350",
   "metadata": {},
   "outputs": [
    {
     "data": {
      "text/plain": [
       "Index(['City', 'Multiple Lines', 'Internet Service', 'Online Security',\n",
       "       'Online Backup', 'Device Protection', 'Tech Support', 'Streaming TV',\n",
       "       'Streaming Movies', 'Contract', 'Payment Method', 'Total Charges'],\n",
       "      dtype='object')"
      ]
     },
     "execution_count": 24,
     "metadata": {},
     "output_type": "execute_result"
    }
   ],
   "source": [
    "data.select_dtypes(include=['object', 'category']).columns"
   ]
  },
  {
   "cell_type": "code",
   "execution_count": 25,
   "id": "e32dd8cc",
   "metadata": {},
   "outputs": [],
   "source": [
    "##Multiple Lines\n",
    "# Map Multiple Lines to 3 values\n",
    "data['Multiple Lines'] = data['Multiple Lines'].map({'Yes':1, 'No':0, 'No phone service':0})"
   ]
  },
  {
   "cell_type": "code",
   "execution_count": 26,
   "id": "a8e4da7f",
   "metadata": {
    "scrolled": true
   },
   "outputs": [],
   "source": [
    "##Internet Service, Contract,Payment Method\n",
    "# Apply one-hot encoding to these categorical features\n",
    "catg_to_oneHot = ['Internet Service', 'Contract','Payment Method']\n",
    "\n",
    "# Perform one-hot encoding\n",
    "data = pd.get_dummies(data, columns=catg_to_oneHot, drop_first=True)"
   ]
  },
  {
   "cell_type": "markdown",
   "id": "cf073fce",
   "metadata": {},
   "source": [
    "- City: I will Cluster Cities Using K-Means Based on Latitude and Longitude with K=5\n",
    "- I will create a new variable called ((City Cluster)) and delet the old one (City)"
   ]
  },
  {
   "cell_type": "code",
   "execution_count": 27,
   "id": "75328f44",
   "metadata": {},
   "outputs": [
    {
     "name": "stderr",
     "output_type": "stream",
     "text": [
      "C:\\Users\\musta\\anaconda3\\envs\\gpu\\lib\\site-packages\\sklearn\\cluster\\_kmeans.py:870: FutureWarning: The default value of `n_init` will change from 10 to 'auto' in 1.4. Set the value of `n_init` explicitly to suppress the warning\n",
      "  warnings.warn(\n"
     ]
    }
   ],
   "source": [
    "##City\n",
    "from sklearn.cluster import KMeans\n",
    "import pandas as pd\n",
    "\n",
    "# Select Latitude and Longitude columns for clustering\n",
    "coordinates = data_city\n",
    "\n",
    "# Perform K-means clustering with an arbitrary number of clusters (e.g., 5)\n",
    "kmeans = KMeans(n_clusters=5, random_state=42)\n",
    "data['City Cluster'] = kmeans.fit_predict(coordinates)\n",
    "\n",
    "\n",
    "\n",
    "\n",
    "\n",
    "\n",
    "\n",
    "\n",
    "\n",
    "# Drop city\n",
    "data.drop(['City','City Cluster'], axis=1, inplace=True)\n",
    "# Perform one-hot encoding on categorical columns\n",
    "#data= pd.get_dummies(data, columns=['City'], drop_first=True)"
   ]
  },
  {
   "cell_type": "code",
   "execution_count": 28,
   "id": "35bd5455",
   "metadata": {},
   "outputs": [],
   "source": [
    "#data['City Cluster'].info()"
   ]
  },
  {
   "cell_type": "code",
   "execution_count": 29,
   "id": "ab64d36b",
   "metadata": {},
   "outputs": [
    {
     "data": {
      "text/plain": [
       "No                     3498\n",
       "Yes                    2019\n",
       "No internet service    1526\n",
       "Name: Online Security, dtype: int64"
      ]
     },
     "execution_count": 29,
     "metadata": {},
     "output_type": "execute_result"
    }
   ],
   "source": [
    "##Online Security & oline Backup & Device Protection & Tech Support\n",
    "data['Online Security'].value_counts()"
   ]
  },
  {
   "cell_type": "code",
   "execution_count": 30,
   "id": "3c9c3b76",
   "metadata": {},
   "outputs": [
    {
     "name": "stdout",
     "output_type": "stream",
     "text": [
      "                   Online Security  Online Backup  Device Protection  \\\n",
      "Online Security           1.000000       0.283832           0.275438   \n",
      "Online Backup             0.283832       1.000000           0.303546   \n",
      "Device Protection         0.275438       0.303546           1.000000   \n",
      "Tech Support              0.354931       0.294233           0.333313   \n",
      "\n",
      "                   Tech Support  \n",
      "Online Security        0.354931  \n",
      "Online Backup          0.294233  \n",
      "Device Protection      0.333313  \n",
      "Tech Support           1.000000  \n"
     ]
    },
    {
     "data": {
      "image/png": "[encoded data removed]",
      "text/plain": [
       "<Figure size 500x400 with 2 Axes>"
      ]
     },
     "metadata": {},
     "output_type": "display_data"
    }
   ],
   "source": [
    "# Calculation of Confusion Matrix to see if there is any correlation between these variables\n",
    "\n",
    "# Map Online Security & oline Backup & Device Protection & Tech Support to 3 values\n",
    "data['Online Security'] = data['Online Security'].map({'Yes':1, 'No':0, 'No internet service':0})\n",
    "data['Online Backup'] = data['Online Backup'].map({'Yes':1, 'No':0, 'No internet service':0})\n",
    "data['Device Protection'] = data['Device Protection'].map({'Yes':1, 'No':0, 'No internet service':0})\n",
    "data['Tech Support'] = data['Tech Support'].map({'Yes':1, 'No':0, 'No internet service':0})\n",
    "\n",
    "# Compute the correlation matrix\n",
    "correlation_matrix = data[['Online Security', 'Online Backup','Device Protection','Tech Support']].corr()\n",
    "\n",
    "# Display the matrix\n",
    "print(correlation_matrix)\n",
    "\n",
    "# Optional: Plot the heatmap for better visualization\n",
    "import seaborn as sns\n",
    "import matplotlib.pyplot as plt\n",
    "\n",
    "plt.figure(figsize=(5, 4))\n",
    "sns.heatmap(correlation_matrix, annot=True, cmap='coolwarm', fmt='.2f')\n",
    "plt.title('Correlation Matrix')\n",
    "plt.show()"
   ]
  },
  {
   "cell_type": "code",
   "execution_count": 31,
   "id": "b9cbd813",
   "metadata": {},
   "outputs": [
    {
     "name": "stdout",
     "output_type": "stream",
     "text": [
      "             Feature       VIF\n",
      "0              const  1.979915\n",
      "1    Online Security  1.215649\n",
      "2      Online Backup  1.188015\n",
      "3  Device Protection  1.210034\n",
      "4       Tech Support  1.261712\n"
     ]
    }
   ],
   "source": [
    "# Calculation of Variance Inflation Factor to see if there is any correlation between these variables (Methos statistic)\n",
    "from statsmodels.stats.outliers_influence import variance_inflation_factor\n",
    "import pandas as pd\n",
    "import statsmodels.api as sm\n",
    "\n",
    "# Select relevant features\n",
    "X = data[['Online Security', 'Online Backup','Device Protection','Tech Support']]\n",
    "\n",
    "# Add a constant (intercept) to the features\n",
    "X = sm.add_constant(X)\n",
    "\n",
    "# Calculate VIF for each feature\n",
    "vif_data = pd.DataFrame()\n",
    "vif_data[\"Feature\"] = X.columns\n",
    "vif_data[\"VIF\"] = [variance_inflation_factor(X.values, i) for i in range(X.shape[1])]\n",
    "\n",
    "print(vif_data)\n"
   ]
  },
  {
   "cell_type": "markdown",
   "id": "a472a718",
   "metadata": {},
   "source": [
    "- Based on Confusion Matrix; we got a Moderate Correlation (~0.5 - 0.8): Some overlap, but both may still add value.\n",
    "- Based on VIF (Variance Inflation Factor); all the variables their VIF between 1 < VIF < 5 and thwy consider as a Moderate correlation so they don't have a strong corelation.\n",
    "- Decision: i will keep all of them"
   ]
  },
  {
   "cell_type": "code",
   "execution_count": 32,
   "id": "a67a4d4d",
   "metadata": {},
   "outputs": [
    {
     "data": {
      "text/plain": [
       "No                     2785\n",
       "Yes                    2732\n",
       "No internet service    1526\n",
       "Name: Streaming Movies, dtype: int64"
      ]
     },
     "execution_count": 32,
     "metadata": {},
     "output_type": "execute_result"
    }
   ],
   "source": [
    "##Streaming Movies & Streaming TV\n",
    "data['Streaming Movies'].value_counts()"
   ]
  },
  {
   "cell_type": "code",
   "execution_count": 33,
   "id": "7f7329d9",
   "metadata": {},
   "outputs": [
    {
     "name": "stdout",
     "output_type": "stream",
     "text": [
      "                  Streaming Movies  Streaming TV\n",
      "Streaming Movies          1.000000      0.533094\n",
      "Streaming TV              0.533094      1.000000\n"
     ]
    },
    {
     "data": {
      "image/png": "[encoded data removed]",
      "text/plain": [
       "<Figure size 500x400 with 2 Axes>"
      ]
     },
     "metadata": {},
     "output_type": "display_data"
    }
   ],
   "source": [
    "# Map Streaming Movies and Streaming TV to 3 values\n",
    "data['Streaming Movies'] = data['Streaming Movies'].map({'Yes': 1, 'No': 0, 'No internet service': 0})\n",
    "data['Streaming TV'] = data['Streaming TV'].map({'Yes': 1, 'No': 0, 'No internet service': 0})\n",
    "\n",
    "# Compute the correlation matrix\n",
    "correlation_matrix = data[['Streaming Movies', 'Streaming TV']].corr()\n",
    "\n",
    "# Display the matrix\n",
    "print(correlation_matrix)\n",
    "\n",
    "# Optional: Plot the heatmap for better visualization\n",
    "import seaborn as sns\n",
    "import matplotlib.pyplot as plt\n",
    "\n",
    "plt.figure(figsize=(5, 4))\n",
    "sns.heatmap(correlation_matrix, annot=True, cmap='coolwarm', fmt='.2f')\n",
    "plt.title('Correlation Matrix: Streaming Movies & Streaming TV')\n",
    "plt.show()"
   ]
  },
  {
   "cell_type": "markdown",
   "id": "8a78d142",
   "metadata": {},
   "source": [
    "High Correlation (> 0.8): Indicates multicollinearity. Both features contain redundant information, and you may want to drop one of them.\n",
    "- I will drop (('Streaming Movies'))"
   ]
  },
  {
   "cell_type": "code",
   "execution_count": 34,
   "id": "a83cde6f",
   "metadata": {},
   "outputs": [],
   "source": [
    "data.drop('Streaming Movies', axis=1, inplace=True)"
   ]
  },
  {
   "cell_type": "code",
   "execution_count": 35,
   "id": "96809925",
   "metadata": {
    "scrolled": true
   },
   "outputs": [
    {
     "name": "stdout",
     "output_type": "stream",
     "text": [
      "<class 'pandas.core.frame.DataFrame'>\n",
      "RangeIndex: 7043 entries, 0 to 7042\n",
      "Data columns (total 23 columns):\n",
      " #   Column                                  Non-Null Count  Dtype  \n",
      "---  ------                                  --------------  -----  \n",
      " 0   Gender                                  7043 non-null   int64  \n",
      " 1   Senior Citizen                          7043 non-null   int64  \n",
      " 2   Partner                                 7043 non-null   int64  \n",
      " 3   Dependents                              7043 non-null   int64  \n",
      " 4   Tenure Months                           7043 non-null   int64  \n",
      " 5   Phone Service                           7043 non-null   int64  \n",
      " 6   Multiple Lines                          7043 non-null   int64  \n",
      " 7   Online Security                         7043 non-null   int64  \n",
      " 8   Online Backup                           7043 non-null   int64  \n",
      " 9   Device Protection                       7043 non-null   int64  \n",
      " 10  Tech Support                            7043 non-null   int64  \n",
      " 11  Streaming TV                            7043 non-null   int64  \n",
      " 12  Paperless Billing                       7043 non-null   int64  \n",
      " 13  Monthly Charges                         7043 non-null   float64\n",
      " 14  Total Charges                           7043 non-null   object \n",
      " 15  Churn Value                             7043 non-null   int64  \n",
      " 16  Internet Service_Fiber optic            7043 non-null   uint8  \n",
      " 17  Internet Service_No                     7043 non-null   uint8  \n",
      " 18  Contract_One year                       7043 non-null   uint8  \n",
      " 19  Contract_Two year                       7043 non-null   uint8  \n",
      " 20  Payment Method_Credit card (automatic)  7043 non-null   uint8  \n",
      " 21  Payment Method_Electronic check         7043 non-null   uint8  \n",
      " 22  Payment Method_Mailed check             7043 non-null   uint8  \n",
      "dtypes: float64(1), int64(14), object(1), uint8(7)\n",
      "memory usage: 928.6+ KB\n"
     ]
    }
   ],
   "source": [
    "data.info()"
   ]
  },
  {
   "cell_type": "markdown",
   "id": "3874ab90",
   "metadata": {},
   "source": [
    "### Target"
   ]
  },
  {
   "cell_type": "code",
   "execution_count": 36,
   "id": "166f7afc",
   "metadata": {},
   "outputs": [
    {
     "data": {
      "image/png": "[encoded data removed]",
      "text/plain": [
       "<Figure size 600x400 with 1 Axes>"
      ]
     },
     "metadata": {},
     "output_type": "display_data"
    }
   ],
   "source": [
    "# Visualize the distribution of Churn Value (Target Variable)\n",
    "plt.figure(figsize=(6, 4))\n",
    "sns.countplot(x='Churn Value', data=data, palette='Set2')\n",
    "plt.title('Distribution of Churn Value')\n",
    "plt.xlabel('Churn Value (0 = No Churn, 1 = Churn)')\n",
    "plt.ylabel('Count')\n",
    "plt.show()\n"
   ]
  },
  {
   "cell_type": "code",
   "execution_count": 37,
   "id": "0ddf6dc3",
   "metadata": {},
   "outputs": [
    {
     "data": {
      "image/png": "[encoded data removed]",
      "text/plain": [
       "<Figure size 600x600 with 1 Axes>"
      ]
     },
     "metadata": {},
     "output_type": "display_data"
    }
   ],
   "source": [
    "# Calculate the proportion of Churn vs Non-Churn\n",
    "churn_counts = data['Churn Value'].value_counts()\n",
    "\n",
    "# Plot the pie chart\n",
    "plt.figure(figsize=(6, 6))\n",
    "plt.pie(churn_counts, labels=['No Churn', 'Churn'], autopct='%1.1f%%', startangle=90, colors=['skyblue', 'lightcoral'])\n",
    "plt.title('Churn vs Non-Churn Proportion')\n",
    "plt.show()\n"
   ]
  },
  {
   "cell_type": "code",
   "execution_count": 38,
   "id": "ede06ec5",
   "metadata": {},
   "outputs": [
    {
     "name": "stdout",
     "output_type": "stream",
     "text": [
      "Statistics for Churn Value:\n",
      "count    7043.000000\n",
      "mean        0.265370\n",
      "std         0.441561\n",
      "min         0.000000\n",
      "25%         0.000000\n",
      "50%         0.000000\n",
      "75%         1.000000\n",
      "max         1.000000\n",
      "Name: Churn Value, dtype: float64\n"
     ]
    }
   ],
   "source": [
    "# Get a summary of the target variable\n",
    "churn_stats = data['Churn Value'].describe()\n",
    "\n",
    "print(\"Statistics for Churn Value:\")\n",
    "print(churn_stats)"
   ]
  },
  {
   "cell_type": "markdown",
   "id": "5613116f",
   "metadata": {},
   "source": [
    "- 26.5370 % in the churn rate is means that about 1 in 4 customers in the dataset has churned.\n",
    "- While not perfectly balanced, the churn rate is within a reasonable range (~25-30%), because most standard machine learning algorithms like Logistic Regression, Random Forest ect, can handle this case.\n",
    "- If the churn rate low than 20%, then we have to use Smote or other method to make it balanced.\n",
    "- std = 0.441561 close to 0.5 indicates that the classes are mostly balanced.\n",
    "\n",
    " ---> no action nedeed for the churn variable"
   ]
  },
  {
   "cell_type": "code",
   "execution_count": 39,
   "id": "fc480c2c",
   "metadata": {},
   "outputs": [
    {
     "name": "stdout",
     "output_type": "stream",
     "text": [
      "\n",
      "Missing values per column:\n"
     ]
    },
    {
     "data": {
      "text/plain": [
       "Gender                                    0\n",
       "Senior Citizen                            0\n",
       "Partner                                   0\n",
       "Dependents                                0\n",
       "Tenure Months                             0\n",
       "Phone Service                             0\n",
       "Multiple Lines                            0\n",
       "Online Security                           0\n",
       "Online Backup                             0\n",
       "Device Protection                         0\n",
       "Tech Support                              0\n",
       "Streaming TV                              0\n",
       "Paperless Billing                         0\n",
       "Monthly Charges                           0\n",
       "Total Charges                             0\n",
       "Churn Value                               0\n",
       "Internet Service_Fiber optic              0\n",
       "Internet Service_No                       0\n",
       "Contract_One year                         0\n",
       "Contract_Two year                         0\n",
       "Payment Method_Credit card (automatic)    0\n",
       "Payment Method_Electronic check           0\n",
       "Payment Method_Mailed check               0\n",
       "dtype: int64"
      ]
     },
     "execution_count": 39,
     "metadata": {},
     "output_type": "execute_result"
    }
   ],
   "source": [
    "#Checking for Missing Values:\n",
    "print(\"\\nMissing values per column:\")\n",
    "data.isnull().sum()"
   ]
  },
  {
   "cell_type": "code",
   "execution_count": 40,
   "id": "9233377f",
   "metadata": {},
   "outputs": [
    {
     "data": {
      "text/plain": [
       "\"for feature in data.columns:\\n    plt.figure(figsize=(8, 4))\\n    sns.boxplot(x=data[feature])\\n    plt.title(f'Boxplot of {feature}')\\n    plt.show()\""
      ]
     },
     "execution_count": 40,
     "metadata": {},
     "output_type": "execute_result"
    }
   ],
   "source": [
    "#Cheking for Outliers:\n",
    "# Create boxplots for each numerical feature\n",
    "'''for feature in data.columns:\n",
    "    plt.figure(figsize=(8, 4))\n",
    "    sns.boxplot(x=data[feature])\n",
    "    plt.title(f'Boxplot of {feature}')\n",
    "    plt.show()'''"
   ]
  },
  {
   "cell_type": "markdown",
   "id": "7dd5eff5",
   "metadata": {},
   "source": [
    "Based on the box plots, we do not have any outliers in the dataset, although some features showed some outliers and after re-examining them, they turned out to be non-outliers."
   ]
  },
  {
   "cell_type": "code",
   "execution_count": 41,
   "id": "311f7208",
   "metadata": {},
   "outputs": [],
   "source": [
    "## replacing blank strings with NULL in `Total Charges`\n",
    "data['Total Charges'] = data['Total Charges'].apply(lambda x: np.nan if type(x) == str else x)\n",
    "## confirming NULL values in `Total Charges`\n",
    "data['Total Charges'].isna().sum()\n",
    "\n",
    "data = data.dropna()\n",
    "data['Total Charges'] = data['Total Charges'].astype(float)"
   ]
  },
  {
   "cell_type": "code",
   "execution_count": 42,
   "id": "66ae4587",
   "metadata": {},
   "outputs": [
    {
     "data": {
      "text/plain": [
       "22"
      ]
     },
     "execution_count": 42,
     "metadata": {},
     "output_type": "execute_result"
    }
   ],
   "source": [
    "## fetching duplicated rows (as a whole) in the dataframe\n",
    "data.duplicated().sum()"
   ]
  },
  {
   "cell_type": "code",
   "execution_count": 43,
   "id": "eb36ae1b",
   "metadata": {},
   "outputs": [
    {
     "name": "stdout",
     "output_type": "stream",
     "text": [
      "      Gender  Senior Citizen  Partner  Dependents  Tenure Months  \\\n",
      "242        1               0        0           0              1   \n",
      "351        1               0        0           0              1   \n",
      "456        1               0        0           0              1   \n",
      "859        0               1        0           0              1   \n",
      "1080       1               0        0           0              1   \n",
      "1173       0               0        0           0              1   \n",
      "1522       0               0        0           0              1   \n",
      "1656       0               0        0           0              1   \n",
      "1722       1               0        0           0              1   \n",
      "1751       1               0        0           0              1   \n",
      "1786       0               0        0           0              1   \n",
      "1834       1               0        0           0              1   \n",
      "2967       0               0        0           0              1   \n",
      "3296       1               0        0           0              1   \n",
      "3872       1               0        0           0              1   \n",
      "4005       1               0        0           0              1   \n",
      "4638       1               0        0           0              1   \n",
      "5925       1               0        0           0              1   \n",
      "6087       1               0        0           0              1   \n",
      "6653       1               0        0           0              1   \n",
      "6804       0               0        0           0              1   \n",
      "6854       0               0        0           0              1   \n",
      "\n",
      "      Phone Service  Multiple Lines  Online Security  Online Backup  \\\n",
      "242               1               0                0              0   \n",
      "351               1               0                0              0   \n",
      "456               1               0                0              0   \n",
      "859               1               0                0              0   \n",
      "1080              1               0                0              0   \n",
      "1173              1               0                0              0   \n",
      "1522              1               0                0              0   \n",
      "1656              1               0                0              0   \n",
      "1722              1               0                0              0   \n",
      "1751              1               0                0              0   \n",
      "1786              1               0                0              0   \n",
      "1834              1               0                0              0   \n",
      "2967              1               0                0              0   \n",
      "3296              1               0                0              0   \n",
      "3872              1               0                0              0   \n",
      "4005              1               0                0              0   \n",
      "4638              1               0                0              0   \n",
      "5925              1               0                0              0   \n",
      "6087              1               0                0              0   \n",
      "6653              1               0                0              0   \n",
      "6804              1               0                0              0   \n",
      "6854              1               0                0              0   \n",
      "\n",
      "      Device Protection  ...  Monthly Charges  Total Charges  Churn Value  \\\n",
      "242                   0  ...            45.70          45.70            1   \n",
      "351                   0  ...            20.15          20.15            1   \n",
      "456                   0  ...            69.90          69.90            1   \n",
      "859                   0  ...            69.60          69.60            1   \n",
      "1080                  0  ...            20.20          20.20            1   \n",
      "1173                  0  ...            20.90          20.90            1   \n",
      "1522                  0  ...            70.15          70.15            1   \n",
      "1656                  0  ...            70.10          70.10            1   \n",
      "1722                  0  ...            45.30          45.30            1   \n",
      "1751                  0  ...            20.10          20.10            1   \n",
      "1786                  0  ...            69.20          69.20            1   \n",
      "1834                  0  ...            69.35          69.35            1   \n",
      "2967                  0  ...            19.55          19.55            0   \n",
      "3296                  0  ...            20.20          20.20            0   \n",
      "3872                  0  ...            20.45          20.45            0   \n",
      "4005                  0  ...            20.45          20.45            0   \n",
      "4638                  0  ...            20.05          20.05            0   \n",
      "5925                  0  ...            20.20          20.20            0   \n",
      "6087                  0  ...            20.05          20.05            0   \n",
      "6653                  0  ...            20.30          20.30            0   \n",
      "6804                  0  ...            19.90          19.90            0   \n",
      "6854                  0  ...            19.65          19.65            0   \n",
      "\n",
      "      Internet Service_Fiber optic  Internet Service_No  Contract_One year  \\\n",
      "242                              0                    0                  0   \n",
      "351                              0                    1                  0   \n",
      "456                              1                    0                  0   \n",
      "859                              1                    0                  0   \n",
      "1080                             0                    1                  0   \n",
      "1173                             0                    1                  0   \n",
      "1522                             1                    0                  0   \n",
      "1656                             1                    0                  0   \n",
      "1722                             0                    0                  0   \n",
      "1751                             0                    1                  0   \n",
      "1786                             1                    0                  0   \n",
      "1834                             1                    0                  0   \n",
      "2967                             0                    1                  0   \n",
      "3296                             0                    1                  0   \n",
      "3872                             0                    1                  0   \n",
      "4005                             0                    1                  0   \n",
      "4638                             0                    1                  0   \n",
      "5925                             0                    1                  0   \n",
      "6087                             0                    1                  0   \n",
      "6653                             0                    1                  0   \n",
      "6804                             0                    1                  0   \n",
      "6854                             0                    1                  0   \n",
      "\n",
      "      Contract_Two year  Payment Method_Credit card (automatic)  \\\n",
      "242                   0                                       0   \n",
      "351                   0                                       0   \n",
      "456                   0                                       0   \n",
      "859                   0                                       0   \n",
      "1080                  0                                       0   \n",
      "1173                  0                                       0   \n",
      "1522                  0                                       0   \n",
      "1656                  0                                       0   \n",
      "1722                  0                                       0   \n",
      "1751                  0                                       0   \n",
      "1786                  0                                       0   \n",
      "1834                  0                                       0   \n",
      "2967                  0                                       0   \n",
      "3296                  0                                       0   \n",
      "3872                  0                                       0   \n",
      "4005                  0                                       0   \n",
      "4638                  0                                       0   \n",
      "5925                  0                                       0   \n",
      "6087                  0                                       0   \n",
      "6653                  0                                       0   \n",
      "6804                  0                                       0   \n",
      "6854                  0                                       0   \n",
      "\n",
      "      Payment Method_Electronic check  Payment Method_Mailed check  \n",
      "242                                 0                            1  \n",
      "351                                 0                            1  \n",
      "456                                 1                            0  \n",
      "859                                 1                            0  \n",
      "1080                                0                            1  \n",
      "1173                                0                            1  \n",
      "1522                                0                            1  \n",
      "1656                                1                            0  \n",
      "1722                                1                            0  \n",
      "1751                                0                            1  \n",
      "1786                                1                            0  \n",
      "1834                                1                            0  \n",
      "2967                                0                            1  \n",
      "3296                                0                            1  \n",
      "3872                                0                            1  \n",
      "4005                                0                            1  \n",
      "4638                                0                            1  \n",
      "5925                                0                            1  \n",
      "6087                                0                            1  \n",
      "6653                                0                            1  \n",
      "6804                                0                            1  \n",
      "6854                                0                            1  \n",
      "\n",
      "[22 rows x 23 columns]\n"
     ]
    }
   ],
   "source": [
    "# Fetch the duplicated rows\n",
    "duplicated_rows = data[data.duplicated()]\n",
    "\n",
    "# Display duplicated rows\n",
    "print(duplicated_rows)"
   ]
  },
  {
   "cell_type": "code",
   "execution_count": 44,
   "id": "8c2d8a2d",
   "metadata": {},
   "outputs": [],
   "source": [
    "# Remove duplicated rows, keeping the first occurrence\n",
    "data = data.drop_duplicates()"
   ]
  },
  {
   "cell_type": "markdown",
   "id": "bc4fcc49",
   "metadata": {},
   "source": [
    "### Data Modeling"
   ]
  },
  {
   "cell_type": "code",
   "execution_count": 45,
   "id": "40206d52",
   "metadata": {},
   "outputs": [
    {
     "name": "stdout",
     "output_type": "stream",
     "text": [
      "Train Set: X_train=(8244, 22), y_train=(8244,)\n",
      "Test Set: X_test=(2062, 22), y_test=(2062,)\n"
     ]
    }
   ],
   "source": [
    "#Split the Data into Train and Test Sets\n",
    "from sklearn.model_selection import train_test_split\n",
    "\n",
    "# Define the features (X) and target (y)\n",
    "X = data.drop(['Churn Value'], axis=1)  # Drop target column from features\n",
    "y = data['Churn Value']  # Define the target\n",
    "\n",
    "\n",
    "## creating an instance of SMOTE\n",
    "from imblearn.over_sampling import SMOTE\n",
    "smote = SMOTE(k_neighbors=5, random_state=101, sampling_strategy=1)\n",
    "## resampling the dataset using SMOTE oversampling\n",
    "X, y = smote.fit_resample(X, y)\n",
    "\n",
    "\n",
    "# Split the data (80% Train, 20% Test)\n",
    "X_train, X_test, y_train, y_test = train_test_split(X, y, test_size=0.2, random_state=42)\n",
    "\n",
    "# Display the shapes of the datasets\n",
    "print(f\"Train Set: X_train={X_train.shape}, y_train={y_train.shape}\")\n",
    "print(f\"Test Set: X_test={X_test.shape}, y_test={y_test.shape}\")"
   ]
  },
  {
   "cell_type": "code",
   "execution_count": 46,
   "id": "be08feba",
   "metadata": {},
   "outputs": [],
   "source": [
    "#Scale the Features (If Needed): Some models, like Logistic Regression or SVM, require scaled features.\n",
    "from sklearn.preprocessing import MinMaxScaler, StandardScaler\n",
    "#scaler = MinMaxScaler()\n",
    "scaler = StandardScaler()\n",
    "# Fit and transform the training data, and transform the test data\n",
    "X_train_scaled = scaler.fit_transform(X_train)\n",
    "X_test_scaled = scaler.fit_transform(X_test)"
   ]
  },
  {
   "cell_type": "markdown",
   "id": "f86a21ea",
   "metadata": {},
   "source": [
    "### RandomForestClassifier"
   ]
  },
  {
   "cell_type": "code",
   "execution_count": 47,
   "id": "2f69bbe8",
   "metadata": {},
   "outputs": [
    {
     "name": "stdout",
     "output_type": "stream",
     "text": [
      "RandomForestClassifier Accuracy: 0.8531\n",
      "Fitting 3 folds for each of 81 candidates, totalling 243 fits\n",
      "RF Accuracy with the Best Parameters: 0.8531\n"
     ]
    }
   ],
   "source": [
    "#Train a Machine Learning Model\n",
    "from sklearn.ensemble import RandomForestClassifier\n",
    "\n",
    "# Initialize the model\n",
    "rf_model = RandomForestClassifier(random_state=42)\n",
    "\n",
    "# Train the model on the training data\n",
    "rf_model.fit(X_train_scaled, y_train)\n",
    "#Make Predictions\n",
    "# Predict on the test data\n",
    "y_pred = rf_model.predict(X_test_scaled)\n",
    "#Evaluate the Model\n",
    "from sklearn.metrics import accuracy_score, classification_report, confusion_matrix\n",
    "\n",
    "# Calculate the accuracy\n",
    "accuracy = accuracy_score(y_test, y_pred)\n",
    "print(f\"RandomForestClassifier Accuracy: {accuracy:.4f}\")\n",
    "from sklearn.model_selection import GridSearchCV\n",
    "\n",
    "param_grid = {\n",
    "    'n_estimators': [50, 100, 200],\n",
    "    'max_depth': [10, 20, None],\n",
    "    'min_samples_split': [2, 5, 10],\n",
    "    'min_samples_leaf': [1, 2, 4]\n",
    "}\n",
    "\n",
    "grid_search = GridSearchCV(estimator=rf_model, param_grid=param_grid, cv=3, n_jobs=-1, verbose=2)\n",
    "grid_search.fit(X_train_scaled, y_train)\n",
    "\n",
    "best_model = grid_search.best_estimator_\n",
    "y_pred = best_model.predict(X_test_scaled)\n",
    "# Calculate accuracy\n",
    "accuracy = accuracy_score(y_test, y_pred)\n",
    "print(f\"RF Accuracy with the Best Parameters: {accuracy:.4f}\")\n"
   ]
  },
  {
   "cell_type": "code",
   "execution_count": 48,
   "id": "a7a04b07",
   "metadata": {},
   "outputs": [
    {
     "data": {
      "text/plain": [
       "array([0.02081003, 0.0112248 , 0.02869526, 0.08427554, 0.13382822,\n",
       "       0.00912266, 0.01122591, 0.05145558, 0.02090024, 0.01670911,\n",
       "       0.0545935 , 0.01086011, 0.01330245, 0.13659945, 0.11260929,\n",
       "       0.04115529, 0.04559791, 0.05352021, 0.08019595, 0.02924082,\n",
       "       0.01318209, 0.02089559])"
      ]
     },
     "execution_count": 48,
     "metadata": {},
     "output_type": "execute_result"
    }
   ],
   "source": [
    "grid_search.best_estimator_.feature_importances_"
   ]
  },
  {
   "cell_type": "code",
   "execution_count": 49,
   "id": "74195851",
   "metadata": {},
   "outputs": [
    {
     "data": {
      "text/plain": [
       "Index(['Gender', 'Senior Citizen', 'Partner', 'Dependents', 'Tenure Months',\n",
       "       'Phone Service', 'Multiple Lines', 'Online Security', 'Online Backup',\n",
       "       'Device Protection', 'Tech Support', 'Streaming TV',\n",
       "       'Paperless Billing', 'Monthly Charges', 'Total Charges', 'Churn Value',\n",
       "       'Internet Service_Fiber optic', 'Internet Service_No',\n",
       "       'Contract_One year', 'Contract_Two year',\n",
       "       'Payment Method_Credit card (automatic)',\n",
       "       'Payment Method_Electronic check', 'Payment Method_Mailed check'],\n",
       "      dtype='object')"
      ]
     },
     "execution_count": 49,
     "metadata": {},
     "output_type": "execute_result"
    }
   ],
   "source": [
    "data.columns"
   ]
  },
  {
   "cell_type": "markdown",
   "id": "4519fefc",
   "metadata": {},
   "source": [
    "### LogisticRegression"
   ]
  },
  {
   "cell_type": "code",
   "execution_count": 50,
   "id": "576adc8d",
   "metadata": {},
   "outputs": [
    {
     "name": "stdout",
     "output_type": "stream",
     "text": [
      "Accuracy: 0.8317\n",
      "Fitting 5 folds for each of 8 candidates, totalling 40 fits\n",
      "[CV] END ...........................C=0.01, solver=liblinear; total time=   0.0s\n",
      "[CV] END ...........................C=0.01, solver=liblinear; total time=   0.0s\n",
      "[CV] END ...........................C=0.01, solver=liblinear; total time=   0.0s\n",
      "[CV] END ...........................C=0.01, solver=liblinear; total time=   0.0s\n",
      "[CV] END ...........................C=0.01, solver=liblinear; total time=   0.0s\n",
      "[CV] END ...............................C=0.01, solver=lbfgs; total time=   0.0s\n",
      "[CV] END ...............................C=0.01, solver=lbfgs; total time=   0.0s\n",
      "[CV] END ...............................C=0.01, solver=lbfgs; total time=   0.0s\n",
      "[CV] END ...............................C=0.01, solver=lbfgs; total time=   0.0s\n",
      "[CV] END ...............................C=0.01, solver=lbfgs; total time=   0.0s\n",
      "[CV] END ............................C=0.1, solver=liblinear; total time=   0.0s\n",
      "[CV] END ............................C=0.1, solver=liblinear; total time=   0.0s\n",
      "[CV] END ............................C=0.1, solver=liblinear; total time=   0.0s\n",
      "[CV] END ............................C=0.1, solver=liblinear; total time=   0.0s\n",
      "[CV] END ............................C=0.1, solver=liblinear; total time=   0.0s\n",
      "[CV] END ................................C=0.1, solver=lbfgs; total time=   0.0s\n",
      "[CV] END ................................C=0.1, solver=lbfgs; total time=   0.0s\n",
      "[CV] END ................................C=0.1, solver=lbfgs; total time=   0.0s\n",
      "[CV] END ................................C=0.1, solver=lbfgs; total time=   0.0s\n",
      "[CV] END ................................C=0.1, solver=lbfgs; total time=   0.0s\n",
      "[CV] END ..............................C=1, solver=liblinear; total time=   0.0s\n",
      "[CV] END ..............................C=1, solver=liblinear; total time=   0.0s\n",
      "[CV] END ..............................C=1, solver=liblinear; total time=   0.0s\n",
      "[CV] END ..............................C=1, solver=liblinear; total time=   0.0s\n",
      "[CV] END ..............................C=1, solver=liblinear; total time=   0.0s\n",
      "[CV] END ..................................C=1, solver=lbfgs; total time=   0.1s\n",
      "[CV] END ..................................C=1, solver=lbfgs; total time=   0.0s\n",
      "[CV] END ..................................C=1, solver=lbfgs; total time=   0.0s\n",
      "[CV] END ..................................C=1, solver=lbfgs; total time=   0.0s\n",
      "[CV] END ..................................C=1, solver=lbfgs; total time=   0.0s\n",
      "[CV] END .............................C=10, solver=liblinear; total time=   0.0s\n",
      "[CV] END .............................C=10, solver=liblinear; total time=   0.0s\n",
      "[CV] END .............................C=10, solver=liblinear; total time=   0.0s\n",
      "[CV] END .............................C=10, solver=liblinear; total time=   0.0s\n",
      "[CV] END .............................C=10, solver=liblinear; total time=   0.0s\n",
      "[CV] END .................................C=10, solver=lbfgs; total time=   0.1s\n",
      "[CV] END .................................C=10, solver=lbfgs; total time=   0.0s\n",
      "[CV] END .................................C=10, solver=lbfgs; total time=   0.0s\n",
      "[CV] END .................................C=10, solver=lbfgs; total time=   0.0s\n",
      "[CV] END .................................C=10, solver=lbfgs; total time=   0.0s\n",
      "LR Accuracy with the Best Parameters: 0.8317\n"
     ]
    }
   ],
   "source": [
    "from sklearn.linear_model import LogisticRegression\n",
    "# Initialize the logistic regression model\n",
    "logreg = LogisticRegression(random_state=42, max_iter=1000)\n",
    "\n",
    "# Train the model on the training data\n",
    "logreg.fit(X_train_scaled, y_train)\n",
    "# Make predictions on the test set\n",
    "y_pred = logreg.predict(X_test_scaled)\n",
    "# Calculate accuracy\n",
    "accuracy = accuracy_score(y_test, y_pred)\n",
    "print(f\"Accuracy: {accuracy:.4f}\")\n",
    "\n",
    "param_grid = {\n",
    "    'C': [0.01, 0.1, 1, 10],\n",
    "    'solver': ['liblinear', 'lbfgs']\n",
    "}\n",
    "\n",
    "grid_search = GridSearchCV(LogisticRegression(max_iter=1000), param_grid, cv=5, verbose=2)\n",
    "grid_search.fit(X_train_scaled, y_train)\n",
    "best_model = grid_search.best_estimator_\n",
    "y_pred = best_model.predict(X_test_scaled)\n",
    "# Calculate accuracy\n",
    "accuracy = accuracy_score(y_test, y_pred)\n",
    "print(f\"LR Accuracy with the Best Parameters: {accuracy:.4f}\")\n"
   ]
  },
  {
   "cell_type": "markdown",
   "id": "485dfe96",
   "metadata": {},
   "source": [
    "### K-Nearest Neighbors (KNN)"
   ]
  },
  {
   "cell_type": "code",
   "execution_count": 51,
   "id": "ef7162c0",
   "metadata": {},
   "outputs": [
    {
     "name": "stdout",
     "output_type": "stream",
     "text": [
      "KNN Accuracy: 0.8177\n"
     ]
    }
   ],
   "source": [
    "from sklearn.neighbors import KNeighborsClassifier\n",
    "\n",
    "# Initialize and train the KNN model\n",
    "knn_model = KNeighborsClassifier(n_neighbors=5)\n",
    "knn_model.fit(X_train_scaled, y_train)\n",
    "\n",
    "# Predict on test data\n",
    "y_pred_knn = knn_model.predict(X_test_scaled)\n",
    "\n",
    "# Evaluate the model\n",
    "print(f\"KNN Accuracy: {accuracy_score(y_test, y_pred_knn):.4f}\")"
   ]
  },
  {
   "cell_type": "markdown",
   "id": "2771b4a3",
   "metadata": {},
   "source": [
    "### LGBMClassifier"
   ]
  },
  {
   "cell_type": "code",
   "execution_count": 52,
   "id": "b8238e31",
   "metadata": {},
   "outputs": [
    {
     "name": "stdout",
     "output_type": "stream",
     "text": [
      "[LightGBM] [Info] Number of positive: 4116, number of negative: 4128\n",
      "[LightGBM] [Info] Auto-choosing row-wise multi-threading, the overhead of testing was 0.009967 seconds.\n",
      "You can set `force_row_wise=true` to remove the overhead.\n",
      "And if memory is not enough, you can set `force_col_wise=true`.\n",
      "[LightGBM] [Info] Total Bins 640\n",
      "[LightGBM] [Info] Number of data points in the train set: 8244, number of used features: 22\n",
      "[LightGBM] [Info] [binary:BoostFromScore]: pavg=0.499272 -> initscore=-0.002911\n",
      "[LightGBM] [Info] Start training from score -0.002911\n",
      "LightGBM Accuracy: 0.8516\n"
     ]
    }
   ],
   "source": [
    "from lightgbm import LGBMClassifier\n",
    "\n",
    "lgbm_model = LGBMClassifier()\n",
    "lgbm_model.fit(X_train_scaled, y_train)\n",
    "\n",
    "y_pred_lgbm = lgbm_model.predict(X_test_scaled)\n",
    "print(f\"LightGBM Accuracy: {accuracy_score(y_test, y_pred_lgbm):.4f}\")"
   ]
  },
  {
   "cell_type": "markdown",
   "id": "81d88282",
   "metadata": {},
   "source": [
    "## svm"
   ]
  },
  {
   "cell_type": "code",
   "execution_count": 53,
   "id": "5cce37d1",
   "metadata": {},
   "outputs": [
    {
     "name": "stdout",
     "output_type": "stream",
     "text": [
      "SVM Accuracy: 0.8356\n",
      "Fitting 3 folds for each of 24 candidates, totalling 72 fits\n",
      "SVM Accuracy with the Best Parameters: 0.8395\n"
     ]
    }
   ],
   "source": [
    "from sklearn.svm import SVC\n",
    "# Initialize the SVM model with RBF kernel\n",
    "svm_model = SVC(kernel='rbf', C=1.0, gamma='scale', random_state=42)\n",
    "\n",
    "# Train the model on the training data\n",
    "svm_model.fit(X_train_scaled, y_train)\n",
    "# Predict churn on the test set\n",
    "y_pred = svm_model.predict(X_test_scaled)\n",
    "# Calculate accuracy\n",
    "accuracy = accuracy_score(y_test, y_pred)\n",
    "print(f\"SVM Accuracy: {accuracy:.4f}\")\n",
    "\n",
    "#Hyperparameter Tuning with GridSearchCV\n",
    "from sklearn.model_selection import GridSearchCV\n",
    "\n",
    "# Define the parameter grid\n",
    "param_grid = {\n",
    "    'C': [0.1, 1, 10],\n",
    "    'gamma': ['scale', 0.1, 0.01, 0.001],\n",
    "    'kernel': ['rbf', 'linear']\n",
    "}\n",
    "\n",
    "# Initialize GridSearchCV\n",
    "grid_search = GridSearchCV(SVC(random_state=42), param_grid, cv=3, n_jobs=-1, verbose=2)\n",
    "\n",
    "# Fit the grid search to the training data\n",
    "grid_search.fit(X_train_scaled, y_train)\n",
    "\n",
    "# Print the best parameters\n",
    "#print(f\"Best Parameters: {grid_search.best_params_}\")\n",
    "\n",
    "# Train SVM with the best parameters\n",
    "best_svm_model = grid_search.best_estimator_\n",
    "\n",
    "y_pred = best_svm_model.predict(X_test_scaled)\n",
    "# Calculate accuracy\n",
    "accuracy = accuracy_score(y_test, y_pred)\n",
    "print(f\"SVM Accuracy with the Best Parameters: {accuracy:.4f}\")"
   ]
  },
  {
   "cell_type": "markdown",
   "id": "4bb2fd74",
   "metadata": {},
   "source": [
    "### XGBClassifier"
   ]
  },
  {
   "cell_type": "code",
   "execution_count": 54,
   "id": "d2e2cd1b",
   "metadata": {},
   "outputs": [
    {
     "name": "stderr",
     "output_type": "stream",
     "text": [
      "C:\\Users\\musta\\anaconda3\\envs\\gpu\\lib\\site-packages\\xgboost\\sklearn.py:1395: UserWarning: `use_label_encoder` is deprecated in 1.7.0.\n",
      "  warnings.warn(\"`use_label_encoder` is deprecated in 1.7.0.\")\n"
     ]
    },
    {
     "name": "stdout",
     "output_type": "stream",
     "text": [
      "XGBoost Accuracy: 0.8438\n",
      "Fitting 3 folds for each of 54 candidates, totalling 162 fits\n"
     ]
    },
    {
     "name": "stderr",
     "output_type": "stream",
     "text": [
      "C:\\Users\\musta\\anaconda3\\envs\\gpu\\lib\\site-packages\\xgboost\\sklearn.py:1395: UserWarning: `use_label_encoder` is deprecated in 1.7.0.\n",
      "  warnings.warn(\"`use_label_encoder` is deprecated in 1.7.0.\")\n",
      "C:\\Users\\musta\\anaconda3\\envs\\gpu\\lib\\site-packages\\xgboost\\sklearn.py:1395: UserWarning: `use_label_encoder` is deprecated in 1.7.0.\n",
      "  warnings.warn(\"`use_label_encoder` is deprecated in 1.7.0.\")\n",
      "C:\\Users\\musta\\anaconda3\\envs\\gpu\\lib\\site-packages\\xgboost\\sklearn.py:1395: UserWarning: `use_label_encoder` is deprecated in 1.7.0.\n",
      "  warnings.warn(\"`use_label_encoder` is deprecated in 1.7.0.\")\n"
     ]
    },
    {
     "name": "stdout",
     "output_type": "stream",
     "text": [
      "Tuned XGBoost Accuracy: 0.8482\n"
     ]
    }
   ],
   "source": [
    "import xgboost as xgb\n",
    "# Initialize the XGBoost classifier\n",
    "xgb_model = xgb.XGBClassifier(random_state=42, use_label_encoder=False, eval_metric='logloss')\n",
    "\n",
    "# Train the model on the training data\n",
    "xgb_model.fit(X_train_scaled, y_train)\n",
    "# Make predictions on the test data\n",
    "y_pred_xgb = xgb_model.predict(X_test_scaled)\n",
    "# Calculate accuracy\n",
    "accuracy = accuracy_score(y_test, y_pred_xgb)\n",
    "print(f\"XGBoost Accuracy: {accuracy:.4f}\")\n",
    "\n",
    "from sklearn.model_selection import GridSearchCV\n",
    "\n",
    "# Define hyperparameter grid\n",
    "param_grid = {\n",
    "    'n_estimators': [50, 100, 200],\n",
    "    'max_depth': [3, 6, 9],\n",
    "    'learning_rate': [0.01, 0.1, 0.2],\n",
    "    'subsample': [0.8, 1.0]\n",
    "}\n",
    "\n",
    "# Initialize GridSearchCV\n",
    "grid_search = GridSearchCV(estimator=xgb.XGBClassifier(use_label_encoder=False, eval_metric='logloss'),\n",
    "                           param_grid=param_grid, cv=3, verbose=2, n_jobs=-1)\n",
    "\n",
    "# Train the grid search\n",
    "grid_search.fit(X_train_scaled, y_train)\n",
    "\n",
    "\n",
    "# Evaluate the best estimator\n",
    "y_pred_tuned = grid_search.best_estimator_.predict(X_test_scaled)\n",
    "print(f\"Tuned XGBoost Accuracy: {accuracy_score(y_test, y_pred_tuned):.4f}\")\n"
   ]
  },
  {
   "cell_type": "code",
   "execution_count": 55,
   "id": "d41a7d5f",
   "metadata": {},
   "outputs": [
    {
     "name": "stdout",
     "output_type": "stream",
     "text": [
      "Classifier: logistic_regression, Score: 0.8351554869079141)\n",
      "Classifier: support_vector_machines, Score: 0.8368543689320388)\n",
      "Classifier: random_forest, Score: 0.8509267431597529)\n",
      "Classifier: gradient_boosting, Score: 0.8394010002942041)\n"
     ]
    }
   ],
   "source": [
    "from sklearn.linear_model import LogisticRegression\n",
    "from sklearn.dummy import DummyClassifier\n",
    "from sklearn.ensemble import RandomForestClassifier\n",
    "from sklearn.svm import SVC\n",
    "from sklearn.ensemble import GradientBoostingClassifier\n",
    "\n",
    "def create_models(seed=42):\n",
    "    '''\n",
    "    Create a list of machine learning models.\n",
    "            Parameters:\n",
    "                    seed (integer): random seed of the models\n",
    "            Returns:\n",
    "                    models (list): list containing the models\n",
    "    '''\n",
    "\n",
    "    models = []\n",
    "#     models.append(('dummy_classifier', DummyClassifier(random_state=seed, strategy='most_frequent')))\n",
    "    models.append(('logistic_regression', LogisticRegression(random_state=seed)))\n",
    "    models.append(('support_vector_machines', SVC(random_state=seed)))\n",
    "    models.append(('random_forest', RandomForestClassifier(random_state=seed)))\n",
    "    models.append(('gradient_boosting', GradientBoostingClassifier(random_state=seed)))\n",
    "    \n",
    "    return models\n",
    "\n",
    "# create a list with all the algorithms we are going to assess\n",
    "models = create_models()\n",
    "\n",
    "from sklearn.model_selection import cross_val_score\n",
    "\n",
    "# test the accuracy of each model using default hyperparameters\n",
    "results = []\n",
    "names = []\n",
    "scoring = 'accuracy'\n",
    "for name, model in models:\n",
    "    # fit the model with the training data\n",
    "    model.fit(X_train_scaled, y_train)\n",
    "    score = cross_val_score(model, X_train_scaled, y_train, cv=10)\n",
    "    results.append(score)\n",
    "    names.append(name)\n",
    "    # print classifier accuracy\n",
    "    print('Classifier: {}, Score: {})'.format(name, score.mean()))"
   ]
  },
  {
   "cell_type": "code",
   "execution_count": 56,
   "id": "b986ba0d",
   "metadata": {
    "scrolled": false
   },
   "outputs": [
    {
     "name": "stderr",
     "output_type": "stream",
     "text": [
      "C:\\Users\\musta\\anaconda3\\envs\\gpu\\lib\\site-packages\\xgboost\\sklearn.py:1395: UserWarning: `use_label_encoder` is deprecated in 1.7.0.\n",
      "  warnings.warn(\"`use_label_encoder` is deprecated in 1.7.0.\")\n"
     ]
    },
    {
     "name": "stdout",
     "output_type": "stream",
     "text": [
      "Classifier: logistic_regression, Accuracy: 0.8352, Std: 0.0143\n",
      "Classifier: support_vector_machines, Accuracy: 0.8369, Std: 0.0104\n",
      "Classifier: random_forest, Accuracy: 0.8509, Std: 0.0121\n",
      "Classifier: gradient_boosting, Accuracy: 0.8394, Std: 0.0106\n",
      "Classifier: k_nearest_neighbors, Accuracy: 0.8145, Std: 0.0093\n",
      "Classifier: naive_bayes, Accuracy: 0.8142, Std: 0.0141\n"
     ]
    },
    {
     "name": "stderr",
     "output_type": "stream",
     "text": [
      "C:\\Users\\musta\\anaconda3\\envs\\gpu\\lib\\site-packages\\xgboost\\sklearn.py:1395: UserWarning: `use_label_encoder` is deprecated in 1.7.0.\n",
      "  warnings.warn(\"`use_label_encoder` is deprecated in 1.7.0.\")\n",
      "C:\\Users\\musta\\anaconda3\\envs\\gpu\\lib\\site-packages\\xgboost\\sklearn.py:1395: UserWarning: `use_label_encoder` is deprecated in 1.7.0.\n",
      "  warnings.warn(\"`use_label_encoder` is deprecated in 1.7.0.\")\n",
      "C:\\Users\\musta\\anaconda3\\envs\\gpu\\lib\\site-packages\\xgboost\\sklearn.py:1395: UserWarning: `use_label_encoder` is deprecated in 1.7.0.\n",
      "  warnings.warn(\"`use_label_encoder` is deprecated in 1.7.0.\")\n",
      "C:\\Users\\musta\\anaconda3\\envs\\gpu\\lib\\site-packages\\xgboost\\sklearn.py:1395: UserWarning: `use_label_encoder` is deprecated in 1.7.0.\n",
      "  warnings.warn(\"`use_label_encoder` is deprecated in 1.7.0.\")\n",
      "C:\\Users\\musta\\anaconda3\\envs\\gpu\\lib\\site-packages\\xgboost\\sklearn.py:1395: UserWarning: `use_label_encoder` is deprecated in 1.7.0.\n",
      "  warnings.warn(\"`use_label_encoder` is deprecated in 1.7.0.\")\n",
      "C:\\Users\\musta\\anaconda3\\envs\\gpu\\lib\\site-packages\\xgboost\\sklearn.py:1395: UserWarning: `use_label_encoder` is deprecated in 1.7.0.\n",
      "  warnings.warn(\"`use_label_encoder` is deprecated in 1.7.0.\")\n",
      "C:\\Users\\musta\\anaconda3\\envs\\gpu\\lib\\site-packages\\xgboost\\sklearn.py:1395: UserWarning: `use_label_encoder` is deprecated in 1.7.0.\n",
      "  warnings.warn(\"`use_label_encoder` is deprecated in 1.7.0.\")\n",
      "C:\\Users\\musta\\anaconda3\\envs\\gpu\\lib\\site-packages\\xgboost\\sklearn.py:1395: UserWarning: `use_label_encoder` is deprecated in 1.7.0.\n",
      "  warnings.warn(\"`use_label_encoder` is deprecated in 1.7.0.\")\n",
      "C:\\Users\\musta\\anaconda3\\envs\\gpu\\lib\\site-packages\\xgboost\\sklearn.py:1395: UserWarning: `use_label_encoder` is deprecated in 1.7.0.\n",
      "  warnings.warn(\"`use_label_encoder` is deprecated in 1.7.0.\")\n",
      "C:\\Users\\musta\\anaconda3\\envs\\gpu\\lib\\site-packages\\xgboost\\sklearn.py:1395: UserWarning: `use_label_encoder` is deprecated in 1.7.0.\n",
      "  warnings.warn(\"`use_label_encoder` is deprecated in 1.7.0.\")\n"
     ]
    },
    {
     "name": "stdout",
     "output_type": "stream",
     "text": [
      "Classifier: xgboost, Accuracy: 0.8438, Std: 0.0071\n",
      "[LightGBM] [Info] Number of positive: 3704, number of negative: 3715\n",
      "[LightGBM] [Info] Auto-choosing row-wise multi-threading, the overhead of testing was 0.002187 seconds.\n",
      "You can set `force_row_wise=true` to remove the overhead.\n",
      "And if memory is not enough, you can set `force_col_wise=true`.\n",
      "[LightGBM] [Info] Total Bins 640\n",
      "[LightGBM] [Info] Number of data points in the train set: 7419, number of used features: 22\n",
      "[LightGBM] [Info] [binary:BoostFromScore]: pavg=0.499259 -> initscore=-0.002965\n",
      "[LightGBM] [Info] Start training from score -0.002965\n",
      "[LightGBM] [Info] Number of positive: 3704, number of negative: 3715\n",
      "[LightGBM] [Info] Auto-choosing row-wise multi-threading, the overhead of testing was 0.002172 seconds.\n",
      "You can set `force_row_wise=true` to remove the overhead.\n",
      "And if memory is not enough, you can set `force_col_wise=true`.\n",
      "[LightGBM] [Info] Total Bins 640\n",
      "[LightGBM] [Info] Number of data points in the train set: 7419, number of used features: 22\n",
      "[LightGBM] [Info] [binary:BoostFromScore]: pavg=0.499259 -> initscore=-0.002965\n",
      "[LightGBM] [Info] Start training from score -0.002965\n",
      "[LightGBM] [Info] Number of positive: 3704, number of negative: 3715\n",
      "[LightGBM] [Info] Auto-choosing row-wise multi-threading, the overhead of testing was 0.002337 seconds.\n",
      "You can set `force_row_wise=true` to remove the overhead.\n",
      "And if memory is not enough, you can set `force_col_wise=true`.\n",
      "[LightGBM] [Info] Total Bins 640\n",
      "[LightGBM] [Info] Number of data points in the train set: 7419, number of used features: 22\n",
      "[LightGBM] [Info] [binary:BoostFromScore]: pavg=0.499259 -> initscore=-0.002965\n",
      "[LightGBM] [Info] Start training from score -0.002965\n",
      "[LightGBM] [Info] Number of positive: 3704, number of negative: 3715\n",
      "[LightGBM] [Info] Auto-choosing row-wise multi-threading, the overhead of testing was 0.003176 seconds.\n",
      "You can set `force_row_wise=true` to remove the overhead.\n",
      "And if memory is not enough, you can set `force_col_wise=true`.\n",
      "[LightGBM] [Info] Total Bins 640\n",
      "[LightGBM] [Info] Number of data points in the train set: 7419, number of used features: 22\n",
      "[LightGBM] [Info] [binary:BoostFromScore]: pavg=0.499259 -> initscore=-0.002965\n",
      "[LightGBM] [Info] Start training from score -0.002965\n",
      "[LightGBM] [Info] Number of positive: 3704, number of negative: 3716\n",
      "[LightGBM] [Info] Auto-choosing row-wise multi-threading, the overhead of testing was 0.003083 seconds.\n",
      "You can set `force_row_wise=true` to remove the overhead.\n",
      "And if memory is not enough, you can set `force_col_wise=true`.\n",
      "[LightGBM] [Info] Total Bins 640\n",
      "[LightGBM] [Info] Number of data points in the train set: 7420, number of used features: 22\n",
      "[LightGBM] [Info] [binary:BoostFromScore]: pavg=0.499191 -> initscore=-0.003235\n",
      "[LightGBM] [Info] Start training from score -0.003235\n",
      "[LightGBM] [Info] Number of positive: 3704, number of negative: 3716\n",
      "[LightGBM] [Info] Auto-choosing row-wise multi-threading, the overhead of testing was 0.003051 seconds.\n",
      "You can set `force_row_wise=true` to remove the overhead.\n",
      "And if memory is not enough, you can set `force_col_wise=true`.\n",
      "[LightGBM] [Info] Total Bins 640\n",
      "[LightGBM] [Info] Number of data points in the train set: 7420, number of used features: 22\n",
      "[LightGBM] [Info] [binary:BoostFromScore]: pavg=0.499191 -> initscore=-0.003235\n",
      "[LightGBM] [Info] Start training from score -0.003235\n",
      "[LightGBM] [Info] Number of positive: 3705, number of negative: 3715\n",
      "[LightGBM] [Info] Auto-choosing row-wise multi-threading, the overhead of testing was 0.002838 seconds.\n",
      "You can set `force_row_wise=true` to remove the overhead.\n",
      "And if memory is not enough, you can set `force_col_wise=true`.\n",
      "[LightGBM] [Info] Total Bins 640\n",
      "[LightGBM] [Info] Number of data points in the train set: 7420, number of used features: 22\n",
      "[LightGBM] [Info] [binary:BoostFromScore]: pavg=0.499326 -> initscore=-0.002695\n",
      "[LightGBM] [Info] Start training from score -0.002695\n",
      "[LightGBM] [Info] Number of positive: 3705, number of negative: 3715\n",
      "[LightGBM] [Info] Auto-choosing row-wise multi-threading, the overhead of testing was 0.002965 seconds.\n",
      "You can set `force_row_wise=true` to remove the overhead.\n",
      "And if memory is not enough, you can set `force_col_wise=true`.\n",
      "[LightGBM] [Info] Total Bins 640\n",
      "[LightGBM] [Info] Number of data points in the train set: 7420, number of used features: 22\n",
      "[LightGBM] [Info] [binary:BoostFromScore]: pavg=0.499326 -> initscore=-0.002695\n",
      "[LightGBM] [Info] Start training from score -0.002695\n",
      "[LightGBM] [Info] Number of positive: 3705, number of negative: 3715\n",
      "[LightGBM] [Info] Auto-choosing row-wise multi-threading, the overhead of testing was 0.002184 seconds.\n",
      "You can set `force_row_wise=true` to remove the overhead.\n",
      "And if memory is not enough, you can set `force_col_wise=true`.\n",
      "[LightGBM] [Info] Total Bins 640\n",
      "[LightGBM] [Info] Number of data points in the train set: 7420, number of used features: 22\n",
      "[LightGBM] [Info] [binary:BoostFromScore]: pavg=0.499326 -> initscore=-0.002695\n",
      "[LightGBM] [Info] Start training from score -0.002695\n",
      "[LightGBM] [Info] Number of positive: 3705, number of negative: 3715\n",
      "[LightGBM] [Info] Auto-choosing row-wise multi-threading, the overhead of testing was 0.003174 seconds.\n",
      "You can set `force_row_wise=true` to remove the overhead.\n",
      "And if memory is not enough, you can set `force_col_wise=true`.\n",
      "[LightGBM] [Info] Total Bins 640\n",
      "[LightGBM] [Info] Number of data points in the train set: 7420, number of used features: 22\n",
      "[LightGBM] [Info] [binary:BoostFromScore]: pavg=0.499326 -> initscore=-0.002695\n",
      "[LightGBM] [Info] Start training from score -0.002695\n",
      "Classifier: lightgbm, Accuracy: 0.8463, Std: 0.0084\n"
     ]
    }
   ],
   "source": [
    "from sklearn.linear_model import LogisticRegression\n",
    "from sklearn.ensemble import RandomForestClassifier, GradientBoostingClassifier\n",
    "from sklearn.svm import SVC\n",
    "from sklearn.neighbors import KNeighborsClassifier\n",
    "from sklearn.naive_bayes import GaussianNB\n",
    "from xgboost import XGBClassifier\n",
    "from lightgbm import LGBMClassifier\n",
    "from sklearn.model_selection import cross_val_score\n",
    "\n",
    "def create_models(seed=42):\n",
    "    '''\n",
    "    Create a list of machine learning models.\n",
    "            Parameters:\n",
    "                    seed (integer): random seed of the models\n",
    "            Returns:\n",
    "                    models (list): list containing the models\n",
    "    '''\n",
    "    models = []\n",
    "    \n",
    "    # Add various models\n",
    "    models.append(('logistic_regression', LogisticRegression(random_state=seed)))\n",
    "    models.append(('support_vector_machines', SVC(random_state=seed)))\n",
    "    models.append(('random_forest', RandomForestClassifier(random_state=seed)))\n",
    "    models.append(('gradient_boosting', GradientBoostingClassifier(random_state=seed)))\n",
    "    models.append(('k_nearest_neighbors', KNeighborsClassifier()))\n",
    "    models.append(('naive_bayes', GaussianNB()))\n",
    "    models.append(('xgboost', XGBClassifier(random_state=seed, use_label_encoder=False, eval_metric='logloss')))\n",
    "    models.append(('lightgbm', LGBMClassifier(random_state=seed)))\n",
    "    \n",
    "    return models\n",
    "\n",
    "# Create a list with all the algorithms we are going to assess\n",
    "models = create_models()\n",
    "\n",
    "# Test the accuracy of each model using cross-validation\n",
    "results = []\n",
    "names = []\n",
    "scoring = 'accuracy'\n",
    "\n",
    "for name, model in models:\n",
    "    # Perform cross-validation\n",
    "    score = cross_val_score(model, X_train_scaled, y_train, cv=10, scoring=scoring)\n",
    "    results.append(score)\n",
    "    names.append(name)\n",
    "    # Print classifier accuracy (mean) and standard deviation\n",
    "    print(f'Classifier: {name}, Accuracy: {score.mean():.4f}, Std: {score.std():.4f}')"
   ]
  },
  {
   "cell_type": "code",
   "execution_count": null,
   "id": "9bd45956",
   "metadata": {},
   "outputs": [],
   "source": []
  },
  {
   "cell_type": "markdown",
   "id": "f4294a65",
   "metadata": {},
   "source": [
    "### Fine Tuning (Hyperparameter Tuning: RandomSearchCV)\n",
    "#### RandomForestClassifier"
   ]
  },
  {
   "cell_type": "code",
   "execution_count": 61,
   "id": "8bd2c0df",
   "metadata": {},
   "outputs": [
    {
     "name": "stdout",
     "output_type": "stream",
     "text": [
      "Fitting 5 folds for each of 10 candidates, totalling 50 fits\n",
      "              precision    recall  f1-score   support\n",
      "\n",
      "           0       0.84      0.85      0.85      1025\n",
      "           1       0.85      0.84      0.85      1037\n",
      "\n",
      "    accuracy                           0.85      2062\n",
      "   macro avg       0.85      0.85      0.85      2062\n",
      "weighted avg       0.85      0.85      0.85      2062\n",
      "\n",
      "0.8457807953443259\n"
     ]
    },
    {
     "ename": "NameError",
     "evalue": "name 'recall_score' is not defined",
     "output_type": "error",
     "traceback": [
      "\u001b[1;31m---------------------------------------------------------------------------\u001b[0m",
      "\u001b[1;31mNameError\u001b[0m                                 Traceback (most recent call last)",
      "Cell \u001b[1;32mIn[61], line 26\u001b[0m\n\u001b[0;32m     22\u001b[0m     \u001b[38;5;28mprint\u001b[39m(precision_score(result, y_pred))\n\u001b[0;32m     25\u001b[0m \u001b[38;5;66;03m## evaluating the result on validation set\u001b[39;00m\n\u001b[1;32m---> 26\u001b[0m \u001b[43mmodelPerformance\u001b[49m\u001b[43m(\u001b[49m\u001b[43mrandomRF\u001b[49m\u001b[43m,\u001b[49m\u001b[43m \u001b[49m\u001b[43mX_test_scaled\u001b[49m\u001b[43m,\u001b[49m\u001b[43m \u001b[49m\u001b[43my_test\u001b[49m\u001b[43m)\u001b[49m\n",
      "Cell \u001b[1;32mIn[61], line 21\u001b[0m, in \u001b[0;36mmodelPerformance\u001b[1;34m(model, test, result)\u001b[0m\n\u001b[0;32m     19\u001b[0m \u001b[38;5;28mprint\u001b[39m(classification_report(result, y_pred))\n\u001b[0;32m     20\u001b[0m \u001b[38;5;28mprint\u001b[39m(accuracy_score(result, y_pred))\n\u001b[1;32m---> 21\u001b[0m \u001b[38;5;28mprint\u001b[39m(\u001b[43mrecall_score\u001b[49m(result, y_pred))\n\u001b[0;32m     22\u001b[0m \u001b[38;5;28mprint\u001b[39m(precision_score(result, y_pred))\n",
      "\u001b[1;31mNameError\u001b[0m: name 'recall_score' is not defined"
     ]
    }
   ],
   "source": [
    "from sklearn.model_selection import RandomizedSearchCV\n",
    "## setting up the hyperparameters for RandomForestClassifier\n",
    "paramsRF = {\n",
    "    \"n_estimators\": np.linspace(64, 256, 10, dtype = int),\n",
    "    \"criterion\": ['gini', 'log_loss'],\n",
    "    \"max_depth\": [6, 8, None],\n",
    "    \"max_features\": ['sqrt', 'log2', None]\n",
    "}\n",
    "## creating the RandomizedSearchCV object\n",
    "randomRF = RandomizedSearchCV(RandomForestClassifier(random_state=101), paramsRF, n_jobs=4, verbose=1, cv=5, scoring='f1', refit=True)\n",
    "## fiting the RandomizedSearchCV model to find the best parameters for Random Forest\n",
    "randomRF.fit(X_train_scaled, y_train)\n",
    "## fetching the best parameters four\n",
    "randomRF.best_params_\n",
    "\n",
    "## defining a function to print classification report and plot the confusion matrix\n",
    "def modelPerformance(model, test, result):\n",
    "    y_pred = model.predict(test)\n",
    "    print(classification_report(result, y_pred))\n",
    "    print(accuracy_score(result, y_pred))\n",
    "    print(recall_score(result, y_pred))\n",
    "    print(precision_score(result, y_pred))\n",
    "\n",
    "    \n",
    "## evaluating the result on validation set\n",
    "modelPerformance(randomRF, X_test_scaled, y_test)"
   ]
  },
  {
   "cell_type": "markdown",
   "id": "357cf688",
   "metadata": {},
   "source": [
    "####  SVM"
   ]
  },
  {
   "cell_type": "code",
   "execution_count": 59,
   "id": "9fb48047",
   "metadata": {},
   "outputs": [
    {
     "name": "stdout",
     "output_type": "stream",
     "text": [
      "Fitting 5 folds for each of 10 candidates, totalling 50 fits\n",
      "              precision    recall  f1-score   support\n",
      "\n",
      "           0       0.84      0.81      0.82      1025\n",
      "           1       0.82      0.84      0.83      1037\n",
      "\n",
      "    accuracy                           0.83      2062\n",
      "   macro avg       0.83      0.83      0.83      2062\n",
      "weighted avg       0.83      0.83      0.83      2062\n",
      "\n"
     ]
    }
   ],
   "source": [
    "## setting up the hyperparameters for SVC\n",
    "paramsSVC = {\n",
    "    'kernel': ['linear', 'rbf'], \n",
    "    'C': [0.1, 1, 10],\n",
    "    'gamma': ['auto', 'scale']\n",
    "}\n",
    "## creating a RandomizedSearchCV object for SVC\n",
    "randomSVC = RandomizedSearchCV(SVC(random_state=101, max_iter=-1, probability=True), paramsSVC, n_jobs=4, verbose=1, cv=5, scoring = 'f1', refit=True)\n",
    "## fiting the RandomizedSearchCV model to find the best parameters for Random Forest\n",
    "randomSVC.fit(X_train_scaled, y_train)\n",
    "\n",
    "    \n",
    "## evaluating the result on validation set\n",
    "modelPerformance(randomSVC, X_test_scaled, y_test)"
   ]
  },
  {
   "cell_type": "markdown",
   "id": "fbf1f4f2",
   "metadata": {},
   "source": [
    "#### XGBoostClassifier "
   ]
  },
  {
   "cell_type": "code",
   "execution_count": 60,
   "id": "759c8a9c",
   "metadata": {},
   "outputs": [
    {
     "name": "stdout",
     "output_type": "stream",
     "text": [
      "Fitting 5 folds for each of 10 candidates, totalling 50 fits\n",
      "              precision    recall  f1-score   support\n",
      "\n",
      "           0       0.85      0.84      0.85      1025\n",
      "           1       0.85      0.85      0.85      1037\n",
      "\n",
      "    accuracy                           0.85      2062\n",
      "   macro avg       0.85      0.85      0.85      2062\n",
      "weighted avg       0.85      0.85      0.85      2062\n",
      "\n"
     ]
    }
   ],
   "source": [
    "## setting the hyperparameters for XGBoost \n",
    "paramsXG = {\n",
    "    \"n_estimators\": np.linspace(64, 256, 10, dtype = int),\n",
    "    \"eta\": [0.01, 0.05, 0.1, 0.2],\n",
    "    \"max_depth\": [6, 8, None],\n",
    "    \"subsample\": [0.5, 0.8, 1.0]    \n",
    "}\n",
    "\n",
    "## creating the RandomizedSearchCV object for XGBoostClassifier\n",
    "randomXGB = RandomizedSearchCV(XGBClassifier(seed=101, eval_metric='logloss', objective='binary:logistic'), paramsXG, n_jobs=4, verbose=1, cv=5, scoring='f1', refit=True)\n",
    "## fiting the model\n",
    "randomXGB.fit(X_train_scaled, y_train)\n",
    "\n",
    "    \n",
    "## evaluating the result on validation set\n",
    "modelPerformance(randomXGB, X_test_scaled, y_test)"
   ]
  },
  {
   "cell_type": "markdown",
   "id": "e9636ce6",
   "metadata": {},
   "source": [
    "### Model Evaluation"
   ]
  },
  {
   "cell_type": "code",
   "execution_count": null,
   "id": "17b61b3a",
   "metadata": {},
   "outputs": [],
   "source": [
    "## creating a dictionary of currently built ML models\n",
    "models = {'randomSVC': randomSVC, 'randomRF': randomRF, 'randomXGB': randomXGB}\n",
    "\n"
   ]
  }
 ],
 "metadata": {
  "kernelspec": {
   "display_name": "Python 3 (ipykernel)",
   "language": "python",
   "name": "python3"
  },
  "language_info": {
   "codemirror_mode": {
    "name": "ipython",
    "version": 3
   },
   "file_extension": ".py",
   "mimetype": "text/x-python",
   "name": "python",
   "nbconvert_exporter": "python",
   "pygments_lexer": "ipython3",
   "version": "3.10.11"
  }
 },
 "nbformat": 4,
 "nbformat_minor": 5
}
